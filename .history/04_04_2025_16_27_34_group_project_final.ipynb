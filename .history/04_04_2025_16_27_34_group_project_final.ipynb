{
 "cells": [
  {
   "cell_type": "code",
   "execution_count": null,
   "id": "01d744c7-ac1d-4e6f-a0b2-c5fbf00ed236",
   "metadata": {},
   "outputs": [],
   "source": [
    "library(tidyverse)\n",
    "library(tidymodels)"
   ]
  },
  {
   "cell_type": "markdown",
   "id": "e3f7ed62-ff89-4cdc-9bb6-9d82facb2b91",
   "metadata": {},
   "source": [
    "# Project Final Report: Do Age and Hours Played Affect if a Player is Subscribed"
   ]
  },
  {
   "cell_type": "markdown",
   "id": "587b8664-01b3-4388-9a23-f6e946124a48",
   "metadata": {},
   "source": [
    "## **Introduction:**\n",
    "\n",
    "A group in CS at UBC is interested in understanding how people play video games. They've set up a server running MineCraft and are recording play sessions. Running the server is not easy: need to have the right hardware resources, software licenses, recruiting efforts, etc. Our task is to formulate and answer a predictive question about the data. Present the full analysis, from reading the data to communicating results. \n",
    "\n",
    "The question we our trying to asnwer is: Can the number of hours played and the age of players accurately predict whether or not a given player is subscribed to the newsletter in this dataset?"
   ]
  },
  {
   "cell_type": "markdown",
   "id": "1c34646a-7dc9-4ac4-8a55-96175ac7b057",
   "metadata": {},
   "source": [
    "**Data Description:** In the players dataset read from players.csv, there are 196 observations each comprised of 7 variables. Eash observation represents an individual player from the Minecraft server.\n",
    "- The first variable titled experience is a character variable showing the playing experience of each player like amateur, beginner, regular, veteran, and pro.\n",
    "- The next variable titled subscribe is a logical variable showing whether or not each player has subscribed to a certain game-related newsletter.\n",
    "- The next variable titled hashedEmail is a character variable showing the hashed format of each player's email address.\n",
    "- The next variable titled played_hours is a double quantitative variable showing how many hours each players played the game for. The average number of hours played is 5.85 spanning a range from 0.0 to 223.1 hours.\n",
    "- The next variable titled name is a character variable containing the first name of each player.\n",
    "- The next variable titled gender is a character variable showing the preffered gender of each player not just limited to Male, Female, and Other.\n",
    "- The last variable titled Age is a double quantitative variable showing the age of each player. The average age is 20.52 years old spanning a range from 8 to 50 years old.\n",
    "- \n",
    "Some potential issues with the data may stem from the fact that the hashedEmails are coded in a way that they are almost unusable as data, the fact that there are many players who played the game for a recorded 0.0 hours, the fact that the gender variable seems to have been customizeable by the players meaning that any value could be put into the variable, and the fact that there are some values of NA for the Age variable."
   ]
  },
  {
   "cell_type": "markdown",
   "id": "f5720f0c-3912-46f0-aaf9-132283066164",
   "metadata": {},
   "source": [
    "## **Methods and Plan:**\n",
    "\n",
    "I will be using the k-nearest neighbors classification method to find out whether or not time played and age can predict if a player has subscribed to the newsletter. I am choosing to use the k-nearest neighbors classification method because the predictors are two quantitative variables trying to predict a categorical variable so the variables fit the model. A potential weakness in the method may be that the distribution of time played is so right-skewed with so many values at or around 0 that it may cause some error in the classification model. I will center and scale both the played_hours and age variables before inputting them into the model, after which I will split the data into training and testing groups with a 75/25 split. Afterwards, a validation set will be created and cross-validation will be used to find the best fitting model to the data."
   ]
  },
  {
   "cell_type": "markdown",
   "id": "a5e1238e-63d0-4a0d-85da-2795946a6306",
   "metadata": {},
   "source": [
    "**Questions:**\n",
    "\n",
    "Broad: What player characteristics and behaviours are most predictive of subscribing to a game-related newsletter, and how do these features differ between various player types?\n",
    "\n",
    "Specific: Can the number of hours played and the age of players accurately predict whether or not a given player is subscribed to the newsletter in this dataset?\n",
    "\n",
    "I will use the k-nearest neighbors classification model using the hours_played and Age variables to predict the outcome of the subscribe variable. Using the two numerical variables to predict a categorical variable will accurately fit the outline of the k-nearest neighbors prediction method."
   ]
  },
  {
   "cell_type": "markdown",
   "id": "c3f968d9-e9ca-4e69-8501-f8202e27ed0e",
   "metadata": {},
   "source": [
    "**Exploratory Data Analysis and Visualization:**\n",
    "\n",
    "Reading in and tidying the players dataset:"
   ]
  },
  {
   "cell_type": "code",
   "execution_count": null,
   "id": "6f2d74eb-4ea9-4f02-8cd6-80de117c300f",
   "metadata": {},
   "outputs": [],
   "source": [
    "library(tidyverse)\n",
    "players <- read_csv(\"https://raw.githubusercontent.com/brendancfellows/project_planning/refs/heads/main/players.csv\")\n",
    "head(players)\n"
   ]
  },
  {
   "cell_type": "markdown",
   "id": "410d4675-a17b-4425-90e7-55a22715bf38",
   "metadata": {},
   "source": [
    "Table of mean values for each quantitative variable:"
   ]
  },
  {
   "cell_type": "code",
   "execution_count": null,
   "id": "16e1dc2a-56d8-4e8a-bdf9-4e594d810012",
   "metadata": {},
   "outputs": [],
   "source": [
    "tidy_players <- players |>\n",
    "    rename(hashed_email = hashedEmail, age = Age) |>\n",
    "    mutate(subscribe = as.factor(subscribe)) |>\n",
    "    filter(!is.na(age))\n",
    "head(tidy_players)"
   ]
  },
  {
   "cell_type": "code",
   "execution_count": null,
   "id": "ef7fab06-6be5-4fc8-a595-6573bfc56d91",
   "metadata": {},
   "outputs": [],
   "source": [
    "means <- tidy_players |>\n",
    "    summarize(played_hours = mean(played_hours), age = mean(age, na.rm = TRUE))\n",
    "means"
   ]
  },
  {
   "cell_type": "markdown",
   "id": "9221314b-e08e-4da8-9bdd-2a44ef48d026",
   "metadata": {},
   "source": [
    "Exploratory visualizations:"
   ]
  },
  {
   "cell_type": "code",
   "execution_count": null,
   "id": "bc9a6197-0a57-4724-bb82-f07f9ba25caa",
   "metadata": {},
   "outputs": [],
   "source": [
    "hours_vs_age <- tidy_players |>\n",
    "    ggplot(aes(x = age, y = played_hours)) +\n",
    "    geom_point() +\n",
    "    labs(x = \"Age of Player (years)\", y = \"Time Played (hours)\") +\n",
    "    ggtitle(\"Time Played (hours) versus Age of Player (years)\")\n",
    "hours_vs_age\n",
    "\n",
    "age_dist <- tidy_players |>\n",
    "    ggplot(aes(x = age)) +\n",
    "    geom_histogram() +\n",
    "    labs(x = \"Age of Player (years)\", y = \"Count\") +\n",
    "    ggtitle(\"Distribution of Age of Player (years)\")\n",
    "age_dist\n",
    "\n",
    "hours_dist <- tidy_players |>\n",
    "    ggplot(aes(x = played_hours)) +\n",
    "    geom_histogram() +\n",
    "    labs(x = \"Time Played (hours)\", y = \"Count\") +\n",
    "    ggtitle(\"Distribution of Time Played (hours)\")\n",
    "hours_dist"
   ]
  },
  {
   "cell_type": "markdown",
   "id": "247fc7c0-6f19-4464-b80f-995000666e84",
   "metadata": {},
   "source": [
    "Data Analysis:"
   ]
  },
  {
   "cell_type": "code",
   "execution_count": null,
   "id": "33b3218b-9538-46f8-a723-d7669be0a888",
   "metadata": {},
   "outputs": [],
   "source": [
    "set.seed(3312)\n",
    "\n",
    "players_split <- initial_split(tidy_players, prop = 0.75, strata = subscribe)\n",
    "players_training <- training(players_split)\n",
    "players_testing <- testing(players_split)\n",
    "\n",
    "players_recipe <- recipe(subscribe ~ age + played_hours, data = players_training) |>\n",
    "    step_center(all_predictors()) |>\n",
    "    step_scale(all_predictors())\n",
    "\n",
    "players_spec <- nearest_neighbor(weight_func = \"rectangular\", neighbors = tune()) |>\n",
    "    set_engine(\"kknn\") |>\n",
    "    set_mode(\"classification\")\n",
    "\n",
    "k_vals <- tibble(neighbors = seq(from = 1, to = 100, by = 1))\n",
    "\n",
    "players_vfold <- vfold_cv(players_training, v = 5, strata = subscribe)\n",
    "\n",
    "players_results <- workflow() |>\n",
    "    add_recipe(players_recipe) |>\n",
    "    add_model(players_spec) |>\n",
    "    tune_grid(resamples = players_vfold, grid = k_vals) |>\n",
    "    collect_metrics()\n",
    "\n",
    "accuracies <- players_results |>\n",
    "    filter(.metric == \"accuracy\")\n",
    "\n",
    "head(accuracies)\n",
    "\n",
    "accuracy_vs_k <- ggplot(accuracies, aes(x = neighbors, y = mean)) +\n",
    "    geom_point() + \n",
    "    geom_line() + \n",
    "    labs(x = \"Neighbors\", y = \"Accuracy Estimate\") \n",
    "accuracy_vs_k\n"
   ]
  },
  {
   "cell_type": "code",
   "execution_count": null,
   "id": "ad790fc2-01e5-4658-8b30-d44870aa5694",
   "metadata": {},
   "outputs": [],
   "source": [
    "set.seed(3312)\n",
    "best_k <- accuracies |>\n",
    "    arrange(desc(mean)) |>\n",
    "    head(1) |>\n",
    "    pull(neighbors)\n",
    "best_k"
   ]
  },
  {
   "cell_type": "code",
   "execution_count": null,
   "id": "c9e82390-8260-4924-a1b0-91d00d1515f4",
   "metadata": {},
   "outputs": [],
   "source": [
    "players_spec_2 <- nearest_neighbor(weight_func = \"rectangular\", neighbors = best_k) |>\n",
    "    set_engine(\"kknn\") |>\n",
    "    set_mode(\"classification\")\n",
    "\n",
    "knn_fit <- workflow() |>\n",
    "    add_recipe(players_recipe) |>\n",
    "    add_model(players_spec_2) |>\n",
    "    fit(data = players_training) \n",
    "\n",
    "players_test_predictions <- predict(knn_fit, players_testing) |>\n",
    "    bind_cols(players_testing)\n",
    "\n",
    "players_metrics <- players_test_predictions |>\n",
    "    metrics(truth = subscribe, estimate = .pred_class) |>\n",
    "    filter(.metric == \"accuracy\")\n",
    "players_metrics \n",
    "\n",
    "confusion <- players_test_predictions |>\n",
    "    conf_mat(truth = subscribe, estimate = .pred_class)\n",
    "confusion"
   ]
  },
  {
   "cell_type": "code",
   "execution_count": null,
   "id": "42ddffc2-9756-4d4c-83f1-c594b24b792d",
   "metadata": {},
   "outputs": [],
   "source": []
  },
  {
   "cell_type": "code",
   "execution_count": null,
   "id": "56fa4786-1399-43cd-b947-12bf5089ee0d",
   "metadata": {},
   "outputs": [],
   "source": [
    "age_grid <- seq(min(tidy_players$age),\n",
    "                max(tidy_players$age),\n",
    "                length.out = 100)\n",
    "plh_grid <- seq(min(tidy_players$played_hours),\n",
    "                max(tidy_players$played_hours),\n",
    "                length.out = 100)\n",
    "apgrid <- as_tibble(expand.grid(age = age_grid,\n",
    "                                played_hours = plh_grid))\n",
    "\n",
    "knnPredGrid <- predict(knn_fit, apgrid)\n",
    "\n",
    "prediction_table <- bind_cols(knnPredGrid, apgrid) |>\n",
    "  rename(subscribe = .pred_class)\n",
    "\n",
    "wkflw_plot <-\n",
    "  ggplot() +\n",
    "  geom_point(data = tidy_players,\n",
    "             mapping = aes(x = age,\n",
    "                           y = played_hours,\n",
    "                           color = subscribe),\n",
    "             alpha = 0.75) +\n",
    "  geom_point(data = prediction_table,\n",
    "             mapping = aes(x = age,\n",
    "                           y = played_hours,\n",
    "                           color = subscribe),\n",
    "             alpha = 0.02,\n",
    "             size = 5) +\n",
    "  labs(color = \"Subcribed or Not\",\n",
    "       x = \"Age\",\n",
    "       y = \"Played Hours\") +\n",
    "  scale_color_manual(values = c(\"darkorange\", \"steelblue\")) +\n",
    "  theme(text = element_text(size = 12))\n",
    "\n",
    "wkflw_plot"
   ]
  },
  {
   "cell_type": "markdown",
   "id": "7a1b26b0-5498-47cb-a6ee-cb20b32703b9",
   "metadata": {},
   "source": [
    "Insights:\n",
    "\n",
    "From these visualizations is can be gathered that there is a slight nonlinear relationship between time played and age. Generally, the players with the most time played are from within the 15 to 25 years old age range. However, this correlates with the fact that the distribution of ages follows the same trend with a unimodal shape with most players being aged somewhere between 15 and 25 years old. Also, the distribution of time played is very heavily right-skewed with almost all of the players being around 0 hours played."
   ]
  },
  {
   "cell_type": "markdown",
   "id": "c5b92de3-871a-4ebf-95d7-bf887cf2d7a9",
   "metadata": {},
   "source": [
    "## Discussion"
   ]
  },
  {
   "cell_type": "markdown",
   "id": "2986fbe9-de4b-46ec-bdde-5fe30afff7b0",
   "metadata": {},
   "source": [
    "Summarize: The older "
   ]
  }
 ],
 "metadata": {
  "kernelspec": {
   "display_name": "R",
   "language": "R",
   "name": "ir"
  },
  "language_info": {
   "codemirror_mode": "r",
   "file_extension": ".r",
   "mimetype": "text/x-r-source",
   "name": "R",
   "pygments_lexer": "r",
   "version": "4.3.3"
  }
 },
 "nbformat": 4,
 "nbformat_minor": 5
}
